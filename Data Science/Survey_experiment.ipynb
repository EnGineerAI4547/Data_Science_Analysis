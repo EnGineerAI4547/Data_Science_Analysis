{
 "cells": [
  {
   "cell_type": "code",
   "execution_count": 2,
   "id": "0fd5eb2d",
   "metadata": {},
   "outputs": [
    {
     "name": "stdout",
     "output_type": "stream",
     "text": [
      "Requirement already satisfied: transformers in c:\\users\\gonza\\anaconda3\\lib\\site-packages (4.24.0)\n",
      "Requirement already satisfied: huggingface-hub<1.0,>=0.10.0 in c:\\users\\gonza\\anaconda3\\lib\\site-packages (from transformers) (0.10.1)\n",
      "Requirement already satisfied: tokenizers!=0.11.3,<0.14,>=0.11.1 in c:\\users\\gonza\\anaconda3\\lib\\site-packages (from transformers) (0.11.4)\n",
      "Requirement already satisfied: numpy>=1.17 in c:\\users\\gonza\\anaconda3\\lib\\site-packages (from transformers) (1.23.5)\n",
      "Requirement already satisfied: pyyaml>=5.1 in c:\\users\\gonza\\anaconda3\\lib\\site-packages (from transformers) (6.0)\n",
      "Requirement already satisfied: regex!=2019.12.17 in c:\\users\\gonza\\anaconda3\\lib\\site-packages (from transformers) (2022.7.9)\n",
      "Requirement already satisfied: packaging>=20.0 in c:\\users\\gonza\\appdata\\roaming\\python\\python310\\site-packages (from transformers) (22.0)\n",
      "Requirement already satisfied: tqdm>=4.27 in c:\\users\\gonza\\anaconda3\\lib\\site-packages (from transformers) (4.64.1)\n",
      "Requirement already satisfied: requests in c:\\users\\gonza\\anaconda3\\lib\\site-packages (from transformers) (2.28.1)\n",
      "Requirement already satisfied: filelock in c:\\users\\gonza\\anaconda3\\lib\\site-packages (from transformers) (3.9.0)\n",
      "Requirement already satisfied: typing-extensions>=3.7.4.3 in c:\\users\\gonza\\anaconda3\\lib\\site-packages (from huggingface-hub<1.0,>=0.10.0->transformers) (4.4.0)\n",
      "Requirement already satisfied: colorama in c:\\users\\gonza\\appdata\\roaming\\python\\python310\\site-packages (from tqdm>=4.27->transformers) (0.4.6)\n",
      "Requirement already satisfied: certifi>=2017.4.17 in c:\\users\\gonza\\anaconda3\\lib\\site-packages (from requests->transformers) (2023.5.7)\n",
      "Requirement already satisfied: idna<4,>=2.5 in c:\\users\\gonza\\anaconda3\\lib\\site-packages (from requests->transformers) (3.4)\n",
      "Requirement already satisfied: charset-normalizer<3,>=2 in c:\\users\\gonza\\anaconda3\\lib\\site-packages (from requests->transformers) (2.0.4)\n",
      "Requirement already satisfied: urllib3<1.27,>=1.21.1 in c:\\users\\gonza\\anaconda3\\lib\\site-packages (from requests->transformers) (1.26.14)\n",
      "Requirement already satisfied: torch in c:\\users\\gonza\\anaconda3\\lib\\site-packages (1.12.1)\n",
      "Requirement already satisfied: typing_extensions in c:\\users\\gonza\\anaconda3\\lib\\site-packages (from torch) (4.4.0)\n"
     ]
    },
    {
     "name": "stderr",
     "output_type": "stream",
     "text": [
      "ERROR: Could not find a version that satisfies the requirement sckikit-learn (from versions: none)\n",
      "ERROR: No matching distribution found for sckikit-learn\n"
     ]
    },
    {
     "name": "stdout",
     "output_type": "stream",
     "text": [
      "Requirement already satisfied: transformers in c:\\users\\gonza\\anaconda3\\lib\\site-packages (4.24.0)\n",
      "Collecting transformers\n",
      "  Downloading transformers-4.31.0-py3-none-any.whl (7.4 MB)\n",
      "     ---------------------------------------- 7.4/7.4 MB 29.5 MB/s eta 0:00:00\n",
      "Requirement already satisfied: filelock in c:\\users\\gonza\\anaconda3\\lib\\site-packages (from transformers) (3.9.0)\n",
      "Requirement already satisfied: tqdm>=4.27 in c:\\users\\gonza\\anaconda3\\lib\\site-packages (from transformers) (4.64.1)\n",
      "Requirement already satisfied: tokenizers!=0.11.3,<0.14,>=0.11.1 in c:\\users\\gonza\\anaconda3\\lib\\site-packages (from transformers) (0.11.4)\n",
      "Requirement already satisfied: numpy>=1.17 in c:\\users\\gonza\\anaconda3\\lib\\site-packages (from transformers) (1.23.5)\n",
      "Requirement already satisfied: requests in c:\\users\\gonza\\anaconda3\\lib\\site-packages (from transformers) (2.28.1)\n",
      "Requirement already satisfied: packaging>=20.0 in c:\\users\\gonza\\appdata\\roaming\\python\\python310\\site-packages (from transformers) (22.0)\n",
      "Requirement already satisfied: regex!=2019.12.17 in c:\\users\\gonza\\anaconda3\\lib\\site-packages (from transformers) (2022.7.9)\n",
      "Requirement already satisfied: pyyaml>=5.1 in c:\\users\\gonza\\anaconda3\\lib\\site-packages (from transformers) (6.0)\n",
      "Collecting safetensors>=0.3.1\n",
      "  Downloading safetensors-0.3.2-cp310-cp310-win_amd64.whl (266 kB)\n",
      "     ---------------------------------------- 266.3/266.3 kB ? eta 0:00:00\n",
      "Collecting huggingface-hub<1.0,>=0.14.1\n",
      "  Downloading huggingface_hub-0.16.4-py3-none-any.whl (268 kB)\n",
      "     ---------------------------------------- 268.8/268.8 kB ? eta 0:00:00\n",
      "Requirement already satisfied: typing-extensions>=3.7.4.3 in c:\\users\\gonza\\anaconda3\\lib\\site-packages (from huggingface-hub<1.0,>=0.14.1->transformers) (4.4.0)\n",
      "Requirement already satisfied: fsspec in c:\\users\\gonza\\anaconda3\\lib\\site-packages (from huggingface-hub<1.0,>=0.14.1->transformers) (2022.11.0)\n",
      "Requirement already satisfied: colorama in c:\\users\\gonza\\appdata\\roaming\\python\\python310\\site-packages (from tqdm>=4.27->transformers) (0.4.6)\n",
      "Requirement already satisfied: idna<4,>=2.5 in c:\\users\\gonza\\anaconda3\\lib\\site-packages (from requests->transformers) (3.4)\n",
      "Requirement already satisfied: certifi>=2017.4.17 in c:\\users\\gonza\\anaconda3\\lib\\site-packages (from requests->transformers) (2023.5.7)\n",
      "Requirement already satisfied: charset-normalizer<3,>=2 in c:\\users\\gonza\\anaconda3\\lib\\site-packages (from requests->transformers) (2.0.4)\n",
      "Requirement already satisfied: urllib3<1.27,>=1.21.1 in c:\\users\\gonza\\anaconda3\\lib\\site-packages (from requests->transformers) (1.26.14)\n",
      "Installing collected packages: safetensors, huggingface-hub, transformers\n",
      "  Attempting uninstall: huggingface-hub\n",
      "    Found existing installation: huggingface-hub 0.10.1\n",
      "    Uninstalling huggingface-hub-0.10.1:\n",
      "      Successfully uninstalled huggingface-hub-0.10.1\n",
      "  Attempting uninstall: transformers\n",
      "    Found existing installation: transformers 4.24.0\n",
      "    Uninstalling transformers-4.24.0:\n",
      "      Successfully uninstalled transformers-4.24.0\n",
      "Successfully installed huggingface-hub-0.16.4 safetensors-0.3.2 transformers-4.31.0\n"
     ]
    }
   ],
   "source": [
    "!pip install transformers\n",
    "!pip install torch\n",
    "!pip install sckikit-learn\n",
    "!pip install --upgrade transformers\n"
   ]
  },
  {
   "cell_type": "code",
   "execution_count": 3,
   "id": "6f6d1bba",
   "metadata": {},
   "outputs": [],
   "source": [
    "import transformers\n",
    "import torch\n",
    "import sklearn\n",
    "import pandas as pd"
   ]
  },
  {
   "cell_type": "markdown",
   "id": "d332b4dc",
   "metadata": {},
   "source": [
    "# Step 1: Import Libraries and Load IMDb Data"
   ]
  },
  {
   "cell_type": "code",
   "execution_count": 4,
   "id": "99f42e8a",
   "metadata": {},
   "outputs": [
    {
     "data": {
      "application/vnd.jupyter.widget-view+json": {
       "model_id": "24af583542b548cfa0af2d5bd747ee5c",
       "version_major": 2,
       "version_minor": 0
      },
      "text/plain": [
       "Downloading (…)solve/main/vocab.txt:   0%|          | 0.00/232k [00:00<?, ?B/s]"
      ]
     },
     "metadata": {},
     "output_type": "display_data"
    },
    {
     "name": "stderr",
     "output_type": "stream",
     "text": [
      "C:\\Users\\gonza\\anaconda3\\lib\\site-packages\\huggingface_hub\\file_download.py:133: UserWarning: `huggingface_hub` cache-system uses symlinks by default to efficiently store duplicated files but your machine does not support them in C:\\Users\\gonza\\.cache\\huggingface\\hub. Caching files will still work but in a degraded version that might require more space on your disk. This warning can be disabled by setting the `HF_HUB_DISABLE_SYMLINKS_WARNING` environment variable. For more details, see https://huggingface.co/docs/huggingface_hub/how-to-cache#limitations.\n",
      "To support symlinks on Windows, you either need to activate Developer Mode or to run Python as an administrator. In order to see activate developer mode, see this article: https://docs.microsoft.com/en-us/windows/apps/get-started/enable-your-device-for-development\n",
      "  warnings.warn(message)\n"
     ]
    },
    {
     "data": {
      "application/vnd.jupyter.widget-view+json": {
       "model_id": "5f6f61e7a9a9470aa0960f632ce5987e",
       "version_major": 2,
       "version_minor": 0
      },
      "text/plain": [
       "Downloading (…)okenizer_config.json:   0%|          | 0.00/28.0 [00:00<?, ?B/s]"
      ]
     },
     "metadata": {},
     "output_type": "display_data"
    },
    {
     "data": {
      "application/vnd.jupyter.widget-view+json": {
       "model_id": "df9935d3f2dd472dbf89a35381db096f",
       "version_major": 2,
       "version_minor": 0
      },
      "text/plain": [
       "Downloading (…)lve/main/config.json:   0%|          | 0.00/570 [00:00<?, ?B/s]"
      ]
     },
     "metadata": {},
     "output_type": "display_data"
    }
   ],
   "source": [
    "import pandas as pd\n",
    "from transformers import BertTokenizer, BertForSequenceClassification\n",
    "from torch.utils.data import DataLoader, TensorDataset, random_split\n",
    "from sklearn.model_selection import train_test_split\n",
    "import torch\n",
    "import torch.nn.functional as F\n",
    "import torch.optim as optim\n",
    "\n",
    "# Path to your CSV file\n",
    "file_path = r\"C:\\Users\\gonza\\OneDrive\\Desktop\\IMDB_Dataset.csv\"\n",
    "\n",
    "# Read the CSV file into a DataFrame\n",
    "data = pd.read_csv(file_path)\n",
    "\n",
    "# Assuming the columns are named 'review' and 'sentiment'\n",
    "texts = data['review']\n",
    "labels = data['sentiment'].apply(lambda x: 1 if x == 'positive' else 0) # Convert to binary labels\n",
    "\n",
    "# Split your data into training and validation sets\n",
    "train_texts, val_texts, train_labels, val_labels = train_test_split(texts, labels, test_size=0.2)\n",
    "\n",
    "# Load the BERT tokenizer\n",
    "tokenizer = BertTokenizer.from_pretrained('bert-base-uncased')\n",
    "\n"
   ]
  },
  {
   "cell_type": "markdown",
   "id": "0b787f3b",
   "metadata": {},
   "source": [
    "# Step 2: Tokenize and Prepare Data"
   ]
  },
  {
   "cell_type": "code",
   "execution_count": 5,
   "id": "3f18ba75",
   "metadata": {},
   "outputs": [],
   "source": [
    "# Tokenize the training and validation texts\n",
    "train_encodings = tokenizer(train_texts.tolist(), truncation=True, padding=True)\n",
    "val_encodings = tokenizer(val_texts.tolist(), truncation=True, padding=True)\n",
    "\n",
    "# Convert to PyTorch tensors\n",
    "train_input_ids = torch.tensor(train_encodings['input_ids'])\n",
    "train_attention_mask = torch.tensor(train_encodings['attention_mask'])\n",
    "train_labels_tensor = torch.tensor(train_labels.tolist())\n",
    "\n",
    "val_input_ids = torch.tensor(val_encodings['input_ids'])\n",
    "val_attention_mask = torch.tensor(val_encodings['attention_mask'])\n",
    "val_labels_tensor = torch.tensor(val_labels.tolist())\n",
    "\n",
    "# Create the TensorDatasets\n",
    "train_dataset = TensorDataset(train_input_ids, train_attention_mask, train_labels_tensor)\n",
    "val_dataset = TensorDataset(val_input_ids, val_attention_mask, val_labels_tensor)\n",
    "\n",
    "# Create the DataLoaders\n",
    "train_loader = DataLoader(train_dataset, batch_size=8, shuffle=True)\n",
    "val_loader = DataLoader(val_dataset, batch_size=8, shuffle=False)"
   ]
  },
  {
   "cell_type": "markdown",
   "id": "f1bc5817",
   "metadata": {},
   "source": [
    "# Step 3: Load Pre-trained BERT Model"
   ]
  },
  {
   "cell_type": "code",
   "execution_count": 6,
   "id": "68dcda39",
   "metadata": {},
   "outputs": [
    {
     "data": {
      "application/vnd.jupyter.widget-view+json": {
       "model_id": "c085f87fcb7c4c2490180e1ef3364cfa",
       "version_major": 2,
       "version_minor": 0
      },
      "text/plain": [
       "Downloading model.safetensors:   0%|          | 0.00/440M [00:00<?, ?B/s]"
      ]
     },
     "metadata": {},
     "output_type": "display_data"
    },
    {
     "name": "stderr",
     "output_type": "stream",
     "text": [
      "Some weights of BertForSequenceClassification were not initialized from the model checkpoint at bert-base-uncased and are newly initialized: ['classifier.weight', 'classifier.bias']\n",
      "You should probably TRAIN this model on a down-stream task to be able to use it for predictions and inference.\n"
     ]
    }
   ],
   "source": [
    "model = BertForSequenceClassification.from_pretrained('bert-base-uncased', num_labels=2)\n"
   ]
  },
  {
   "cell_type": "markdown",
   "id": "b03442dd",
   "metadata": {},
   "source": [
    "# Step 4: Train the Model"
   ]
  },
  {
   "cell_type": "code",
   "execution_count": null,
   "id": "33b4251e",
   "metadata": {},
   "outputs": [],
   "source": [
    "device = torch.device('cuda') if torch.cuda.is_available() else torch.device('cpu')\n",
    "model.to(device)\n",
    "\n",
    "optimizer = optim.AdamW(model.parameters(), lr=1e-5)\n",
    "\n",
    "for epoch in range(3):  # Number of epochs\n",
    "    model.train()\n",
    "    for batch in train_loader:\n",
    "        optimizer.zero_grad()\n",
    "        input_ids, attention_mask, labels = batch\n",
    "        input_ids = input_ids.to(device)\n",
    "        attention_mask = attention_mask.to(device)\n",
    "        labels = labels.to(device)\n",
    "        outputs = model(input_ids, attention_mask=attention_mask, labels=labels)\n",
    "        loss = outputs.loss\n",
    "        loss.backward()\n",
    "        optimizer.step()\n",
    "\n",
    "    # You can add validation logic here\n"
   ]
  },
  {
   "cell_type": "code",
   "execution_count": null,
   "id": "dec5fd22",
   "metadata": {},
   "outputs": [],
   "source": [
    " # Validation logic\n",
    "model.eval()\n",
    "val_loss = 0\n",
    "correct_predictions = 0\n",
    "with torch.no_grad():\n",
    "    for batch in val_loader:\n",
    "        input_ids, attention_mask, labels = batch\n",
    "        input_ids = input_ids.to(device)\n",
    "        attention_mask = attention_mask.to(device)\n",
    "        labels = labels.to(device)\n",
    "        outputs = model(input_ids, attention_mask=attention_mask, labels=labels)\n",
    "        val_loss += outputs.loss.item()\n",
    "        preds = torch.argmax(outputs.logits, dim=1)\n",
    "        correct_predictions += (preds == labels).sum().item()\n",
    "\n",
    "val_accuracy = correct_predictions / len(val_texts)\n",
    "print(f\"Validation Loss: {val_loss / len(val_loader)}\")\n",
    "print(f\"Validation Accuracy: {val_accuracy}\")"
   ]
  },
  {
   "cell_type": "markdown",
   "id": "10aa1f7d",
   "metadata": {},
   "source": [
    "# Step 5: Evaluate the Model"
   ]
  },
  {
   "cell_type": "code",
   "execution_count": null,
   "id": "cf6ef510",
   "metadata": {},
   "outputs": [],
   "source": []
  },
  {
   "cell_type": "code",
   "execution_count": 9,
   "id": "49ea3a49",
   "metadata": {},
   "outputs": [],
   "source": [
    "\n",
    "import pandas as pd\n"
   ]
  },
  {
   "cell_type": "code",
   "execution_count": 10,
   "id": "46c570bf",
   "metadata": {},
   "outputs": [
    {
     "name": "stdout",
     "output_type": "stream",
     "text": [
      "                                              review sentiment\n",
      "0  One of the other reviewers has mentioned that ...  positive\n",
      "1  A wonderful little production. <br /><br />The...  positive\n",
      "2  I thought this was a wonderful way to spend ti...  positive\n",
      "3  Basically there's a family where a little boy ...  negative\n",
      "4  Petter Mattei's \"Love in the Time of Money\" is...  positive\n"
     ]
    }
   ],
   "source": [
    "\n",
    "\n",
    "# Path to your CSV file\n",
    "file_path = r\"C:\\Users\\EXG0TSB\\OneDrive - NEE\\Documents\\IMDB Dataset.csv\"\n",
    "\n",
    "# Read the CSV file into a DataFrame\n",
    "data = pd.read_csv(file_path)\n",
    "\n",
    "# Print the first few rows to verify the content\n",
    "print(data.head())\n",
    "\n"
   ]
  },
  {
   "cell_type": "code",
   "execution_count": null,
   "id": "d3476524",
   "metadata": {},
   "outputs": [],
   "source": []
  },
  {
   "cell_type": "code",
   "execution_count": 9,
   "id": "81532dc0",
   "metadata": {},
   "outputs": [
    {
     "data": {
      "text/html": [
       "<div>\n",
       "<style scoped>\n",
       "    .dataframe tbody tr th:only-of-type {\n",
       "        vertical-align: middle;\n",
       "    }\n",
       "\n",
       "    .dataframe tbody tr th {\n",
       "        vertical-align: top;\n",
       "    }\n",
       "\n",
       "    .dataframe thead th {\n",
       "        text-align: right;\n",
       "    }\n",
       "</style>\n",
       "<table border=\"1\" class=\"dataframe\">\n",
       "  <thead>\n",
       "    <tr style=\"text-align: right;\">\n",
       "      <th></th>\n",
       "      <th>Respondent ID</th>\n",
       "      <th>Collector ID</th>\n",
       "      <th>Start Date</th>\n",
       "      <th>End Date</th>\n",
       "      <th>IP Address</th>\n",
       "      <th>Email Address</th>\n",
       "      <th>On a scale of 1 to 10, how well does the PUR software help you do your job?</th>\n",
       "      <th>What is the main reason for your rating?</th>\n",
       "      <th>What is the best/worst change/feature added in the past 6 months?</th>\n",
       "    </tr>\n",
       "  </thead>\n",
       "  <tbody>\n",
       "    <tr>\n",
       "      <th>0</th>\n",
       "      <td>NaN</td>\n",
       "      <td>NaN</td>\n",
       "      <td>NaT</td>\n",
       "      <td>NaT</td>\n",
       "      <td>NaN</td>\n",
       "      <td>NaN</td>\n",
       "      <td>Response</td>\n",
       "      <td>Open-Ended Response</td>\n",
       "      <td>Open-Ended Response</td>\n",
       "    </tr>\n",
       "    <tr>\n",
       "      <th>1</th>\n",
       "      <td>1.183862e+11</td>\n",
       "      <td>451942577.0</td>\n",
       "      <td>2023-08-03 09:48:07</td>\n",
       "      <td>2023-08-03 09:57:57</td>\n",
       "      <td>165.225.223.3</td>\n",
       "      <td>NaN</td>\n",
       "      <td>7</td>\n",
       "      <td>I use PUR in a supporting role. I use it for d...</td>\n",
       "      <td>Worst: The target start and finish dates</td>\n",
       "    </tr>\n",
       "    <tr>\n",
       "      <th>2</th>\n",
       "      <td>1.183862e+11</td>\n",
       "      <td>451942577.0</td>\n",
       "      <td>2023-08-03 09:18:50</td>\n",
       "      <td>2023-08-03 09:24:11</td>\n",
       "      <td>104.129.207.34</td>\n",
       "      <td>NaN</td>\n",
       "      <td>Extremely likely - 10</td>\n",
       "      <td>The new changes which were added to PUR makes ...</td>\n",
       "      <td>Best Changes: Schedule tab changes, EOJC auto ...</td>\n",
       "    </tr>\n",
       "    <tr>\n",
       "      <th>3</th>\n",
       "      <td>1.183862e+11</td>\n",
       "      <td>451942577.0</td>\n",
       "      <td>2023-08-03 08:56:17</td>\n",
       "      <td>2023-08-03 09:00:19</td>\n",
       "      <td>165.225.222.230</td>\n",
       "      <td>NaN</td>\n",
       "      <td>Extremely likely - 10</td>\n",
       "      <td>Program does what it was designed to do, users...</td>\n",
       "      <td>I wish we would still have a field for the old...</td>\n",
       "    </tr>\n",
       "    <tr>\n",
       "      <th>4</th>\n",
       "      <td>1.183861e+11</td>\n",
       "      <td>451942577.0</td>\n",
       "      <td>2023-08-03 06:29:52</td>\n",
       "      <td>2023-08-03 06:33:48</td>\n",
       "      <td>165.225.37.9</td>\n",
       "      <td>NaN</td>\n",
       "      <td>5</td>\n",
       "      <td>There needs to be a formal training and an off...</td>\n",
       "      <td>I wasn't aware of any updates recently. Again,...</td>\n",
       "    </tr>\n",
       "  </tbody>\n",
       "</table>\n",
       "</div>"
      ],
      "text/plain": [
       "   Respondent ID  Collector ID          Start Date            End Date  \\\n",
       "0            NaN           NaN                 NaT                 NaT   \n",
       "1   1.183862e+11   451942577.0 2023-08-03 09:48:07 2023-08-03 09:57:57   \n",
       "2   1.183862e+11   451942577.0 2023-08-03 09:18:50 2023-08-03 09:24:11   \n",
       "3   1.183862e+11   451942577.0 2023-08-03 08:56:17 2023-08-03 09:00:19   \n",
       "4   1.183861e+11   451942577.0 2023-08-03 06:29:52 2023-08-03 06:33:48   \n",
       "\n",
       "        IP Address  Email Address  \\\n",
       "0              NaN            NaN   \n",
       "1    165.225.223.3            NaN   \n",
       "2   104.129.207.34            NaN   \n",
       "3  165.225.222.230            NaN   \n",
       "4     165.225.37.9            NaN   \n",
       "\n",
       "  On a scale of 1 to 10, how well does the PUR software help you do your job?  \\\n",
       "0                                           Response                            \n",
       "1                                                  7                            \n",
       "2                              Extremely likely - 10                            \n",
       "3                              Extremely likely - 10                            \n",
       "4                                                  5                            \n",
       "\n",
       "            What is the main reason for your rating?  \\\n",
       "0                                Open-Ended Response   \n",
       "1  I use PUR in a supporting role. I use it for d...   \n",
       "2  The new changes which were added to PUR makes ...   \n",
       "3  Program does what it was designed to do, users...   \n",
       "4  There needs to be a formal training and an off...   \n",
       "\n",
       "  What is the best/worst change/feature added in the past 6 months?   \n",
       "0                                Open-Ended Response                  \n",
       "1           Worst: The target start and finish dates                  \n",
       "2  Best Changes: Schedule tab changes, EOJC auto ...                  \n",
       "3  I wish we would still have a field for the old...                  \n",
       "4  I wasn't aware of any updates recently. Again,...                  "
      ]
     },
     "execution_count": 9,
     "metadata": {},
     "output_type": "execute_result"
    }
   ],
   "source": [
    "data.head()\n"
   ]
  },
  {
   "cell_type": "code",
   "execution_count": 10,
   "id": "e10edbc4",
   "metadata": {},
   "outputs": [
    {
     "data": {
      "text/html": [
       "<div>\n",
       "<style scoped>\n",
       "    .dataframe tbody tr th:only-of-type {\n",
       "        vertical-align: middle;\n",
       "    }\n",
       "\n",
       "    .dataframe tbody tr th {\n",
       "        vertical-align: top;\n",
       "    }\n",
       "\n",
       "    .dataframe thead th {\n",
       "        text-align: right;\n",
       "    }\n",
       "</style>\n",
       "<table border=\"1\" class=\"dataframe\">\n",
       "  <thead>\n",
       "    <tr style=\"text-align: right;\">\n",
       "      <th></th>\n",
       "      <th>Respondent ID</th>\n",
       "      <th>Collector ID</th>\n",
       "      <th>Start Date</th>\n",
       "      <th>End Date</th>\n",
       "      <th>IP Address</th>\n",
       "      <th>Email Address</th>\n",
       "      <th>On a scale of 1 to 10, how well does the PUR software help you do your job?</th>\n",
       "      <th>What is the main reason for your rating?</th>\n",
       "      <th>What is the best/worst change/feature added in the past 6 months?</th>\n",
       "    </tr>\n",
       "  </thead>\n",
       "  <tbody>\n",
       "    <tr>\n",
       "      <th>1</th>\n",
       "      <td>1.183862e+11</td>\n",
       "      <td>451942577.0</td>\n",
       "      <td>2023-08-03 09:48:07</td>\n",
       "      <td>2023-08-03 09:57:57</td>\n",
       "      <td>165.225.223.3</td>\n",
       "      <td>NaN</td>\n",
       "      <td>7</td>\n",
       "      <td>I use PUR in a supporting role. I use it for d...</td>\n",
       "      <td>Worst: The target start and finish dates</td>\n",
       "    </tr>\n",
       "    <tr>\n",
       "      <th>2</th>\n",
       "      <td>1.183862e+11</td>\n",
       "      <td>451942577.0</td>\n",
       "      <td>2023-08-03 09:18:50</td>\n",
       "      <td>2023-08-03 09:24:11</td>\n",
       "      <td>104.129.207.34</td>\n",
       "      <td>NaN</td>\n",
       "      <td>Extremely likely - 10</td>\n",
       "      <td>The new changes which were added to PUR makes ...</td>\n",
       "      <td>Best Changes: Schedule tab changes, EOJC auto ...</td>\n",
       "    </tr>\n",
       "    <tr>\n",
       "      <th>3</th>\n",
       "      <td>1.183862e+11</td>\n",
       "      <td>451942577.0</td>\n",
       "      <td>2023-08-03 08:56:17</td>\n",
       "      <td>2023-08-03 09:00:19</td>\n",
       "      <td>165.225.222.230</td>\n",
       "      <td>NaN</td>\n",
       "      <td>Extremely likely - 10</td>\n",
       "      <td>Program does what it was designed to do, users...</td>\n",
       "      <td>I wish we would still have a field for the old...</td>\n",
       "    </tr>\n",
       "    <tr>\n",
       "      <th>4</th>\n",
       "      <td>1.183861e+11</td>\n",
       "      <td>451942577.0</td>\n",
       "      <td>2023-08-03 06:29:52</td>\n",
       "      <td>2023-08-03 06:33:48</td>\n",
       "      <td>165.225.37.9</td>\n",
       "      <td>NaN</td>\n",
       "      <td>5</td>\n",
       "      <td>There needs to be a formal training and an off...</td>\n",
       "      <td>I wasn't aware of any updates recently. Again,...</td>\n",
       "    </tr>\n",
       "    <tr>\n",
       "      <th>5</th>\n",
       "      <td>1.183857e+11</td>\n",
       "      <td>451942577.0</td>\n",
       "      <td>2023-08-02 17:28:48</td>\n",
       "      <td>2023-08-02 17:31:50</td>\n",
       "      <td>165.225.222.245</td>\n",
       "      <td>NaN</td>\n",
       "      <td>7</td>\n",
       "      <td>The system is hard to navigate.</td>\n",
       "      <td>No answer</td>\n",
       "    </tr>\n",
       "  </tbody>\n",
       "</table>\n",
       "</div>"
      ],
      "text/plain": [
       "   Respondent ID  Collector ID          Start Date            End Date  \\\n",
       "1   1.183862e+11   451942577.0 2023-08-03 09:48:07 2023-08-03 09:57:57   \n",
       "2   1.183862e+11   451942577.0 2023-08-03 09:18:50 2023-08-03 09:24:11   \n",
       "3   1.183862e+11   451942577.0 2023-08-03 08:56:17 2023-08-03 09:00:19   \n",
       "4   1.183861e+11   451942577.0 2023-08-03 06:29:52 2023-08-03 06:33:48   \n",
       "5   1.183857e+11   451942577.0 2023-08-02 17:28:48 2023-08-02 17:31:50   \n",
       "\n",
       "        IP Address  Email Address  \\\n",
       "1    165.225.223.3            NaN   \n",
       "2   104.129.207.34            NaN   \n",
       "3  165.225.222.230            NaN   \n",
       "4     165.225.37.9            NaN   \n",
       "5  165.225.222.245            NaN   \n",
       "\n",
       "  On a scale of 1 to 10, how well does the PUR software help you do your job?  \\\n",
       "1                                                  7                            \n",
       "2                              Extremely likely - 10                            \n",
       "3                              Extremely likely - 10                            \n",
       "4                                                  5                            \n",
       "5                                                  7                            \n",
       "\n",
       "            What is the main reason for your rating?  \\\n",
       "1  I use PUR in a supporting role. I use it for d...   \n",
       "2  The new changes which were added to PUR makes ...   \n",
       "3  Program does what it was designed to do, users...   \n",
       "4  There needs to be a formal training and an off...   \n",
       "5                    The system is hard to navigate.   \n",
       "\n",
       "  What is the best/worst change/feature added in the past 6 months?   \n",
       "1           Worst: The target start and finish dates                  \n",
       "2  Best Changes: Schedule tab changes, EOJC auto ...                  \n",
       "3  I wish we would still have a field for the old...                  \n",
       "4  I wasn't aware of any updates recently. Again,...                  \n",
       "5                                          No answer                  "
      ]
     },
     "execution_count": 10,
     "metadata": {},
     "output_type": "execute_result"
    }
   ],
   "source": [
    "# Removing the unnecessary first row (index 0)\n",
    "cleaned_data = data.drop(index=0)\n",
    "\n",
    "# Displaying the first few rows to confirm that the unnecessary row has been removed\n",
    "cleaned_data.head()\n"
   ]
  },
  {
   "cell_type": "code",
   "execution_count": 11,
   "id": "2e1e442d",
   "metadata": {},
   "outputs": [
    {
     "data": {
      "text/plain": [
       "Respondent ID                                                                   0\n",
       "Collector ID                                                                    0\n",
       "Start Date                                                                      0\n",
       "End Date                                                                        0\n",
       "IP Address                                                                      0\n",
       "On a scale of 1 to 10, how well does the PUR software help you do your job?     0\n",
       "What is the main reason for your rating?                                        9\n",
       "What is the best/worst change/feature added in the past 6 months?              36\n",
       "dtype: int64"
      ]
     },
     "execution_count": 11,
     "metadata": {},
     "output_type": "execute_result"
    }
   ],
   "source": [
    "# Removing the \"Email Address\" column as it does not contain any useful entries\n",
    "cleaned_data = cleaned_data.drop(columns=[\"Email Address\"])\n",
    "\n",
    "# Checking for missing values in the cleaned dataset\n",
    "missing_values_summary = cleaned_data.isnull().sum()\n",
    "missing_values_summary\n"
   ]
  }
 ],
 "metadata": {
  "kernelspec": {
   "display_name": "Python 3 (ipykernel)",
   "language": "python",
   "name": "python3"
  },
  "language_info": {
   "codemirror_mode": {
    "name": "ipython",
    "version": 3
   },
   "file_extension": ".py",
   "mimetype": "text/x-python",
   "name": "python",
   "nbconvert_exporter": "python",
   "pygments_lexer": "ipython3",
   "version": "3.10.9"
  }
 },
 "nbformat": 4,
 "nbformat_minor": 5
}
